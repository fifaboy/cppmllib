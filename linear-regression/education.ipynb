{
 "cells": [
  {
   "cell_type": "code",
   "execution_count": 7,
   "metadata": {
    "collapsed": false
   },
   "outputs": [
    {
     "name": "stdout",
     "output_type": "stream",
     "text": [
      "   ZL   UZ  UN_WA  MZ_MH  Vill  RMO     Administrative_Unit  \\\n",
      "0   3  NaN    NaN    NaN   NaN  NaN    Bandarban Zila Total   \n",
      "1   3  NaN    NaN    NaN   NaN  1.0          Bandarban Zila   \n",
      "2   3  NaN    NaN    NaN   NaN  2.0          Bandarban Zila   \n",
      "3   3  NaN    NaN    NaN   NaN  3.0          Bandarban Zila   \n",
      "4   3  4.0    NaN    NaN   NaN  NaN  Alikadam Upazila Total   \n",
      "\n",
      "   7+_NotAttendingSchool_Both  7+_NotAttendingSchool_Male  \\\n",
      "0                    153314.0                     72952.0   \n",
      "1                    128460.0                     61417.0   \n",
      "2                     11255.0                      5163.0   \n",
      "3                     13599.0                      6372.0   \n",
      "4                     20872.0                     10032.0   \n",
      "\n",
      "   7+_NotAttendingSchool_Female  7+_Employed_Male  7+_Employed_Female  \\\n",
      "0                       80362.0           59182.0             21979.0   \n",
      "1                       67043.0           50501.0             20199.0   \n",
      "2                        6092.0            3944.0               804.0   \n",
      "3                        7227.0            4737.0               976.0   \n",
      "4                       10840.0            8089.0              3916.0   \n",
      "\n",
      "   7+_LookingForWork_Male  7+_LookingForWork_Female  7+_HouseholdWork_Male  \\\n",
      "0                  1012.0                     497.0                 2570.0   \n",
      "1                   716.0                     394.0                 2213.0   \n",
      "2                    36.0                      26.0                   87.0   \n",
      "3                   260.0                      77.0                  270.0   \n",
      "4                   217.0                      80.0                  446.0   \n",
      "\n",
      "   7+_HouseholdWork_Female  7+_DoNotWork_Male  7+_DoNotWork_Female  \n",
      "0                  45853.0            10188.0              12033.0  \n",
      "1                  37257.0             7987.0               9193.0  \n",
      "2                   3796.0             1096.0               1466.0  \n",
      "3                   4800.0             1105.0               1374.0  \n",
      "4                   5259.0             1280.0               1585.0  \n",
      "Index(['ZL', 'UZ', 'UN_WA', 'MZ_MH', 'Vill', 'RMO', 'Administrative_Unit',\n",
      "       '7+_NotAttendingSchool_Both', '7+_NotAttendingSchool_Male',\n",
      "       '7+_NotAttendingSchool_Female', '7+_Employed_Male',\n",
      "       '7+_Employed_Female', '7+_LookingForWork_Male',\n",
      "       '7+_LookingForWork_Female', '7+_HouseholdWork_Male',\n",
      "       '7+_HouseholdWork_Female', '7+_DoNotWork_Male', '7+_DoNotWork_Female'],\n",
      "      dtype='object')\n",
      "18\n"
     ]
    }
   ],
   "source": [
    "import pandas as pd, numpy as np, matplotlib.pyplot as plt\n",
    "\n",
    "names = ['Bandarban_C10']\n",
    "df = pd.read_csv('CsvFiles/'+names[0]+'.csv')\n",
    "df.dropna(how = 'all')\n",
    "print(df.head())\n",
    "print(df.columns)\n",
    "print(len(df.columns))"
   ]
  },
  {
   "cell_type": "code",
   "execution_count": 64,
   "metadata": {
    "collapsed": false
   },
   "outputs": [
    {
     "name": "stdout",
     "output_type": "stream",
     "text": [
      "153314.0\n",
      "0.523081069274 0.504067397117\n"
     ]
    },
    {
     "data": {
      "image/png": "[encoded data removed]",
      "text/plain": [
       "<matplotlib.figure.Figure at 0x1fa4d11c438>"
      ]
     },
     "metadata": {},
     "output_type": "display_data"
    },
    {
     "data": {
      "image/png": "[encoded data removed]",
      "text/plain": [
       "<matplotlib.figure.Figure at 0x1fa4d2a9198>"
      ]
     },
     "metadata": {},
     "output_type": "display_data"
    }
   ],
   "source": [
    "import itertools\n",
    "def linear_regression(X, Y):\n",
    "    numerator = 0.0\n",
    "    avgx = np.mean(X)\n",
    "    avgy = np.mean(Y)\n",
    "    denominator = 0.0\n",
    "    for (x,y) in zip(X, Y):\n",
    "        dx = x-avgx\n",
    "        dy = y-avgy\n",
    "        numerator += dx*dy\n",
    "        denominator += dx*dx\n",
    "    if denominator < 1e-9:\n",
    "        return (1, avgy-avgx)\n",
    "    m = numerator/denominator\n",
    "    b = avgy-m*avgx\n",
    "    return (m, b)\n",
    "\n",
    "a = '7+_NotAttendingSchool_Both'\n",
    "b = '7+_NotAttendingSchool_Female'\n",
    "data = pd.DataFrame()\n",
    "data[a] = df[a]\n",
    "data[b] = df[b]\n",
    "data = data.dropna(how='any')\n",
    "X, Y = data[a].values.tolist(), data[b].values.tolist()\n",
    "#df.plot(x = a, y = b, kind='scatter')\n",
    "#df.plot(x = a, y = b, kind = 'line')\n",
    "#plt.show()\n",
    "#X = [2,3]\n",
    "#Y = [1,6]\n",
    "print(max(X))\n",
    "(m, b) = linear_regression(X, Y)\n",
    "print(m, b)\n",
    "predict = m*200000+b\n",
    "plt.plot(X, Y, 'r:')\n",
    "plt.show()\n",
    "X.append(200000.0)\n",
    "Y.append(predict)\n",
    "plt.plot(X, Y, 'g:')\n",
    "plt.show()"
   ]
  },
  {
   "cell_type": "code",
   "execution_count": null,
   "metadata": {
    "collapsed": true
   },
   "outputs": [],
   "source": []
  }
 ],
 "metadata": {
  "kernelspec": {
   "display_name": "Python 3",
   "language": "python",
   "name": "python3"
  },
  "language_info": {
   "codemirror_mode": {
    "name": "ipython",
    "version": 3
   },
   "file_extension": ".py",
   "mimetype": "text/x-python",
   "name": "python",
   "nbconvert_exporter": "python",
   "pygments_lexer": "ipython3",
   "version": "3.6.0"
  }
 },
 "nbformat": 4,
 "nbformat_minor": 2
}
